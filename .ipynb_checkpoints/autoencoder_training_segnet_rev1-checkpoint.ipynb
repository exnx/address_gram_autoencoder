{
 "cells": [
  {
   "cell_type": "code",
   "execution_count": 1,
   "metadata": {
    "collapsed": false,
    "deletable": true,
    "editable": true
   },
   "outputs": [],
   "source": [
    "import torch.nn as nn\n",
    "import time\n",
    "import torch.optim as optim\n",
    "from autoencoder_model_segnet_rev1 import SegNet\n",
    "import torch\n",
    "from torchvision import models\n",
    "from torchvision import transforms\n",
    "from PIL import Image\n",
    "import os\n",
    "import numpy as np\n",
    "from address_gram_dataset import AddressGramDataset\n",
    "from torch.utils.data import DataLoader\n",
    "from utils import *\n",
    "import matplotlib.pyplot as plt"
   ]
  },
  {
   "cell_type": "markdown",
   "metadata": {
    "deletable": true,
    "editable": true
   },
   "source": [
    "# Load training/val dataset for one font only"
   ]
  },
  {
   "cell_type": "code",
   "execution_count": 2,
   "metadata": {
    "collapsed": true,
    "deletable": true,
    "editable": true
   },
   "outputs": [],
   "source": [
    "\n",
    "# arial_bold_test_dataset = FontDataset('./address_grams/arialbold/test')\n",
    "\n",
    "# arial_italic_train_dataset = FontDataset('./address_grams/arialitalic/train')\n",
    "# arial_italic_test_dataset = FontDataset('./address_grams/arialitalic/test')\n",
    "\n",
    "# vera_train_dataset = FontDataset('./address_grams/vera/train')\n",
    "# vera_test_dataset = FontDataset('./address_grams/vera/test')\n",
    "\n",
    "# arial_train_dataset = FontDataset('./address_grams/arial/train')\n",
    "# arial_test_dataset = FontDataset('./address_grams/arial/test')"
   ]
  },
  {
   "cell_type": "code",
   "execution_count": 3,
   "metadata": {
    "collapsed": true,
    "deletable": true,
    "editable": true
   },
   "outputs": [],
   "source": [
    "\n",
    "# arial_bold_test_dataloader = DataLoader(arial_bold_test_dataset, batch_size=BATCH_SIZE, shuffle=True)\n",
    "\n",
    "# arial_italic_train_dataloader = DataLoader(arial_italic_train_dataset, batch_size=BATCH_SIZE, shuffle=True)\n",
    "# arial_italic_test_dataloader = DataLoader(arial_italic_test_dataset, batch_size=BATCH_SIZE, shuffle=True)\n",
    "\n",
    "# vera_train_dataloader = DataLoader(vera_train_dataset, batch_size=BATCH_SIZE, shuffle=True)\n",
    "# vera_test_dataloader = DataLoader(vera_test_dataset, batch_size=BATCH_SIZE, shuffle=True)\n",
    "\n",
    "# arial_train_dataloader = DataLoader(vera_train_dataset, batch_size=BATCH_SIZE, shuffle=True)\n",
    "# arial_test_dataloader = DataLoader(vera_test_dataset, batch_size=BATCH_SIZE, shuffle=True)"
   ]
  },
  {
   "cell_type": "markdown",
   "metadata": {
    "deletable": true,
    "editable": true
   },
   "source": [
    "# Define train and val loops"
   ]
  },
  {
   "cell_type": "code",
   "execution_count": 4,
   "metadata": {
    "collapsed": true,
    "deletable": true,
    "editable": true
   },
   "outputs": [],
   "source": [
    "def train(epoch, train_loader, model, optimizer):\n",
    "    # Ensure dropout layers are in train mode\n",
    "    model.train()\n",
    "\n",
    "    batch_time = ExpoAverageMeter()  # forward prop. + back prop. time\n",
    "    losses = ExpoAverageMeter()  # loss (per word decoded)\n",
    "\n",
    "    start = time.time()\n",
    "\n",
    "    # Batches\n",
    "    for i_batch, (x, y) in enumerate(train_loader):\n",
    "        # Set device options\n",
    "        x = x.to(device)\n",
    "        y = y.to(device)\n",
    "\n",
    "        # print('x.size(): ' + str(x.size())) # [32, 3, 224, 224]\n",
    "        # print('y.size(): ' + str(y.size())) # [32, 3, 224, 224]\n",
    "\n",
    "        # Zero gradients\n",
    "        optimizer.zero_grad()\n",
    "\n",
    "        y_hat = model(x)\n",
    "        # print('y_hat.size(): ' + str(y_hat.size())) # [32, 3, 224, 224]\n",
    "\n",
    "        loss = torch.sqrt((y_hat - y).pow(2).mean())\n",
    "        loss.backward()\n",
    "\n",
    "        optimizer.step()\n",
    "\n",
    "        # Keep track of metrics\n",
    "        losses.update(loss.item())\n",
    "        batch_time.update(time.time() - start)\n",
    "\n",
    "        start = time.time()\n",
    "\n",
    "        # Print status\n",
    "        if i_batch % print_freq == 0:\n",
    "            print('Epoch: [{0}][{1}/{2}]\\t'\n",
    "                  'Batch Time {batch_time.val:.3f} ({batch_time.avg:.3f})\\t'\n",
    "                  'Loss {loss.val:.4f} ({loss.avg:.4f})\\t'.format(epoch, i_batch, len(train_loader),\n",
    "                                                                  batch_time=batch_time,\n",
    "                                                                  loss=losses))\n",
    "            \n",
    "    return losses.avg"
   ]
  },
  {
   "cell_type": "code",
   "execution_count": 5,
   "metadata": {
    "collapsed": true,
    "deletable": true,
    "editable": true
   },
   "outputs": [],
   "source": [
    "def valid(val_loader, model):\n",
    "    model.eval()  # eval mode (no dropout or batchnorm)\n",
    "\n",
    "    batch_time = ExpoAverageMeter()  # forward prop. + back prop. time\n",
    "    losses = ExpoAverageMeter()  # loss (per word decoded)\n",
    "\n",
    "    start = time.time()\n",
    "\n",
    "    with torch.no_grad():\n",
    "        # Batches\n",
    "        for i_batch, (x, y) in enumerate(val_loader):\n",
    "            # Set device options\n",
    "            x = x.to(device)\n",
    "            y = y.to(device)\n",
    "\n",
    "            y_hat = model(x)\n",
    "\n",
    "            loss = torch.sqrt((y_hat - y).pow(2).mean())\n",
    "\n",
    "            # Keep track of metrics\n",
    "            losses.update(loss.item())\n",
    "            batch_time.update(time.time() - start)\n",
    "\n",
    "            start = time.time()\n",
    "\n",
    "            # Print status\n",
    "            if i_batch % print_freq == 0:\n",
    "                print('Validation: [{0}/{1}]\\t'\n",
    "                      'Batch Time {batch_time.val:.3f} ({batch_time.avg:.3f})\\t'\n",
    "                      'Loss {loss.val:.4f} ({loss.avg:.4f})\\t'.format(i_batch, len(val_loader),\n",
    "                                                                      batch_time=batch_time,\n",
    "                                                                      loss=losses))\n",
    "\n",
    "    return losses.avg"
   ]
  },
  {
   "cell_type": "code",
   "execution_count": 6,
   "metadata": {
    "collapsed": false,
    "deletable": true,
    "editable": true
   },
   "outputs": [],
   "source": [
    "def plot_graph(train_losses, val_losses):\n",
    "    \n",
    "    plt.plot(train_losses, label='Train Loss')\n",
    "    plt.plot(val_losses, label='Val Loss')\n",
    "    plt.legend(loc='best')\n",
    "    plt.title('Loss vs Epochs')\n",
    "    plt.xlabel('Epochs')\n",
    "    plt.ylabel('Loss (MSE)')\n",
    "    \n",
    "    plt.savefig('autoencoder_training_fig.png')"
   ]
  },
  {
   "cell_type": "markdown",
   "metadata": {
    "deletable": true,
    "editable": true
   },
   "source": [
    "# Load training/val dataset for one font only"
   ]
  },
  {
   "cell_type": "code",
   "execution_count": 7,
   "metadata": {
    "collapsed": false,
    "deletable": true,
    "editable": true
   },
   "outputs": [],
   "source": [
    "# create dataset, pass in path to dir of images\n",
    "arial_bold_train_dataset = AddressGramDataset('./address_grams/arialbold/train')\n",
    "arial_bold_val_dataset = AddressGramDataset('./address_grams/arialbold/val')"
   ]
  },
  {
   "cell_type": "code",
   "execution_count": 8,
   "metadata": {
    "collapsed": false,
    "deletable": true,
    "editable": true
   },
   "outputs": [],
   "source": [
    "BATCH_SIZE = 32\n",
    "\n",
    "# create dataloader\n",
    "arial_bold_train_dataloader = DataLoader(arial_bold_train_dataset, batch_size=BATCH_SIZE, shuffle=True)\n",
    "arial_bold_val_dataloader = DataLoader(arial_bold_val_dataset, batch_size=BATCH_SIZE, shuffle=True)"
   ]
  },
  {
   "cell_type": "code",
   "execution_count": 9,
   "metadata": {
    "collapsed": true,
    "deletable": true,
    "editable": true
   },
   "outputs": [],
   "source": [
    "def main():\n",
    "    \n",
    "    start_time = time.time()\n",
    "    \n",
    "    train_loader = arial_bold_train_dataloader\n",
    "    val_loader = arial_bold_val_dataloader\n",
    "\n",
    "    # Create SegNet model\n",
    "    label_nbr = 3\n",
    "    model = SegNet(label_nbr)\n",
    "\n",
    "    if torch.cuda.device_count() > 1:\n",
    "        print(\"Let's use\", torch.cuda.device_count(), \"GPUs!\")\n",
    "        # dim = 0 [40, xxx] -> [10, ...], [10, ...], [10, ...], [10, ...] on 4 GPUs\n",
    "        model = nn.DataParallel(model)\n",
    "    # Use appropriate device\n",
    "    model = model.to(device)\n",
    "    # print(model)\n",
    "\n",
    "    # define the optimizer\n",
    "    # optimizer = optim.LBFGS(model.parameters(), lr=0.8)\n",
    "    optimizer = optim.Adam(model.parameters(), lr=lr)\n",
    "\n",
    "    best_loss = 100000\n",
    "    epochs_since_improvement = 0\n",
    "    \n",
    "    train_losses = []\n",
    "    val_losses = []\n",
    "\n",
    "    # Epochs\n",
    "    for epoch in range(start_epoch, epochs):\n",
    "        # Decay learning rate if there is no improvement for 8 consecutive epochs, and terminate training after 20\n",
    "        if epochs_since_improvement == 20:\n",
    "            break\n",
    "        if epochs_since_improvement > 0 and epochs_since_improvement % 8 == 0:\n",
    "            adjust_learning_rate(optimizer, 0.8)\n",
    "\n",
    "        # One epoch's training\n",
    "        train_loss = train(epoch, train_loader, model, optimizer)\n",
    "\n",
    "        # One epoch's validation\n",
    "        val_loss = valid(val_loader, model)\n",
    "        print('\\n * LOSS - {loss:.3f}\\n'.format(loss=val_loss))\n",
    "        \n",
    "        # append losses\n",
    "        train_losses.append(train_loss)\n",
    "        val_losses.append(val_loss)\n",
    "\n",
    "        # Check if there was an improvement\n",
    "        is_best = val_loss < best_loss\n",
    "        best_loss = min(best_loss, val_loss)\n",
    "\n",
    "        if not is_best:\n",
    "            epochs_since_improvement += 1\n",
    "            print(\"\\nEpochs since last improvement: %d\\n\" % (epochs_since_improvement,))\n",
    "        else:\n",
    "            epochs_since_improvement = 0\n",
    "\n",
    "        # only save checkpoint every 5 epochs or if last one\n",
    "        if epoch % 5 == 0 and is_best and epoch > 60:\n",
    "            print('Saving checkpoint at epoch:', epoch)\n",
    "            save_checkpoint(epoch, model, optimizer, val_loss, is_best)\n",
    "            \n",
    "    plot_graph(train_losses, val_losses)\n",
    "    \n",
    "    # print total training time\n",
    "    print('total training time (mins): ', (time.time() - start_time) / 60)"
   ]
  },
  {
   "cell_type": "code",
   "execution_count": 10,
   "metadata": {
    "collapsed": false,
    "deletable": true,
    "editable": true
   },
   "outputs": [
    {
     "name": "stdout",
     "output_type": "stream",
     "text": [
      "Let's use 4 GPUs!\n",
      "Epoch: [0][0/125]\tBatch Time 5.713 (0.571)\tLoss 0.8538 (0.0854)\t\n",
      "Epoch: [0][20/125]\tBatch Time 0.238 (0.284)\tLoss 0.7523 (0.6837)\t\n",
      "Epoch: [0][40/125]\tBatch Time 0.249 (0.250)\tLoss 0.7423 (0.7368)\t\n",
      "Epoch: [0][60/125]\tBatch Time 0.268 (0.251)\tLoss 0.7371 (0.7386)\t\n",
      "Epoch: [0][80/125]\tBatch Time 0.240 (0.247)\tLoss 0.7336 (0.7356)\t\n",
      "Epoch: [0][100/125]\tBatch Time 0.239 (0.246)\tLoss 0.7324 (0.7331)\t\n",
      "Epoch: [0][120/125]\tBatch Time 0.241 (0.244)\tLoss 0.7301 (0.7308)\t\n",
      "Validation: [0/32]\tBatch Time 0.123 (0.012)\tLoss 0.7285 (0.0728)\t\n",
      "Validation: [20/32]\tBatch Time 0.119 (0.107)\tLoss 0.7289 (0.6490)\t\n",
      "\n",
      " * LOSS - 0.704\n",
      "\n",
      "Saving checkpoint at epoch: 0\n",
      "Epoch: [1][0/125]\tBatch Time 0.244 (0.024)\tLoss 0.7297 (0.0730)\t\n",
      "Epoch: [1][20/125]\tBatch Time 0.253 (0.226)\tLoss 0.7272 (0.6482)\t\n",
      "Epoch: [1][40/125]\tBatch Time 0.242 (0.242)\tLoss 0.7242 (0.7160)\t\n",
      "Epoch: [1][60/125]\tBatch Time 0.261 (0.248)\tLoss 0.7220 (0.7226)\t\n",
      "Epoch: [1][80/125]\tBatch Time 0.251 (0.254)\tLoss 0.7210 (0.7221)\t\n",
      "Epoch: [1][100/125]\tBatch Time 0.264 (0.257)\tLoss 0.7197 (0.7204)\t\n",
      "Epoch: [1][120/125]\tBatch Time 0.269 (0.259)\tLoss 0.7175 (0.7181)\t\n",
      "Validation: [0/32]\tBatch Time 0.123 (0.012)\tLoss 0.7162 (0.0716)\t\n",
      "Validation: [20/32]\tBatch Time 0.130 (0.112)\tLoss 0.7166 (0.6382)\t\n",
      "\n",
      " * LOSS - 0.692\n",
      "\n",
      "Epoch: [2][0/125]\tBatch Time 0.254 (0.025)\tLoss 0.7175 (0.0718)\t\n",
      "Epoch: [2][20/125]\tBatch Time 0.241 (0.231)\tLoss 0.7152 (0.6375)\t\n",
      "Epoch: [2][40/125]\tBatch Time 0.254 (0.255)\tLoss 0.7139 (0.7047)\t\n",
      "Epoch: [2][60/125]\tBatch Time 0.249 (0.259)\tLoss 0.7106 (0.7111)\t\n",
      "Epoch: [2][80/125]\tBatch Time 0.247 (0.262)\tLoss 0.7100 (0.7103)\t\n",
      "Epoch: [2][100/125]\tBatch Time 0.280 (0.265)\tLoss 0.7072 (0.7085)\t\n",
      "Epoch: [2][120/125]\tBatch Time 0.294 (0.264)\tLoss 0.7055 (0.7064)\t\n",
      "Validation: [0/32]\tBatch Time 0.127 (0.013)\tLoss 0.7038 (0.0704)\t\n",
      "Validation: [20/32]\tBatch Time 0.136 (0.116)\tLoss 0.7039 (0.6271)\t\n",
      "\n",
      " * LOSS - 0.680\n",
      "\n",
      "Epoch: [3][0/125]\tBatch Time 0.253 (0.025)\tLoss 0.7053 (0.0705)\t\n",
      "Epoch: [3][20/125]\tBatch Time 0.253 (0.228)\tLoss 0.7030 (0.6271)\t\n",
      "Epoch: [3][40/125]\tBatch Time 0.260 (0.256)\tLoss 0.7023 (0.6933)\t\n",
      "Epoch: [3][60/125]\tBatch Time 0.249 (0.257)\tLoss 0.7006 (0.6996)\t\n",
      "Epoch: [3][80/125]\tBatch Time 0.253 (0.253)\tLoss 0.6986 (0.6989)\t\n",
      "Epoch: [3][100/125]\tBatch Time 0.245 (0.255)\tLoss 0.6964 (0.6971)\t\n",
      "Epoch: [3][120/125]\tBatch Time 0.246 (0.256)\tLoss 0.6946 (0.6951)\t\n",
      "Validation: [0/32]\tBatch Time 0.141 (0.014)\tLoss 0.6917 (0.0692)\t\n",
      "Validation: [20/32]\tBatch Time 0.125 (0.110)\tLoss 0.6911 (0.6161)\t\n",
      "\n",
      " * LOSS - 0.668\n",
      "\n",
      "Epoch: [4][0/125]\tBatch Time 0.254 (0.025)\tLoss 0.6952 (0.0695)\t\n",
      "Epoch: [4][20/125]\tBatch Time 0.249 (0.226)\tLoss 0.6918 (0.6164)\t\n",
      "Epoch: [4][40/125]\tBatch Time 0.254 (0.251)\tLoss 0.6906 (0.6817)\t\n",
      "Epoch: [4][60/125]\tBatch Time 0.245 (0.251)\tLoss 0.6885 (0.6879)\t\n",
      "Epoch: [4][80/125]\tBatch Time 0.245 (0.251)\tLoss 0.6869 (0.6870)\t\n",
      "Epoch: [4][100/125]\tBatch Time 0.254 (0.252)\tLoss 0.6839 (0.6853)\t\n",
      "Epoch: [4][120/125]\tBatch Time 0.247 (0.252)\tLoss 0.6830 (0.6837)\t\n",
      "Validation: [0/32]\tBatch Time 0.131 (0.013)\tLoss 0.6824 (0.0682)\t\n",
      "Validation: [20/32]\tBatch Time 0.131 (0.110)\tLoss 0.6826 (0.6077)\t\n",
      "\n",
      " * LOSS - 0.659\n",
      "\n",
      "Epoch: [5][0/125]\tBatch Time 0.254 (0.025)\tLoss 0.6822 (0.0682)\t\n",
      "Epoch: [5][20/125]\tBatch Time 0.255 (0.227)\tLoss 0.6806 (0.6069)\t\n",
      "Epoch: [5][40/125]\tBatch Time 0.254 (0.252)\tLoss 0.6794 (0.6708)\t\n",
      "Epoch: [5][60/125]\tBatch Time 0.252 (0.253)\tLoss 0.6776 (0.6774)\t\n",
      "Epoch: [5][80/125]\tBatch Time 0.257 (0.256)\tLoss 0.6749 (0.6762)\t\n",
      "Epoch: [5][100/125]\tBatch Time 0.245 (0.251)\tLoss 0.6740 (0.6747)\t\n",
      "Epoch: [5][120/125]\tBatch Time 0.247 (0.258)\tLoss 0.6703 (0.6720)\t\n",
      "Validation: [0/32]\tBatch Time 0.129 (0.013)\tLoss 0.6648 (0.0665)\t\n",
      "Validation: [20/32]\tBatch Time 0.119 (0.110)\tLoss 0.6648 (0.5922)\t\n",
      "\n",
      " * LOSS - 0.642\n",
      "\n",
      "Saving checkpoint at epoch: 5\n",
      "Epoch: [6][0/125]\tBatch Time 0.297 (0.030)\tLoss 0.6693 (0.0669)\t\n",
      "Epoch: [6][20/125]\tBatch Time 0.249 (0.231)\tLoss 0.6656 (0.5942)\t\n",
      "Epoch: [6][40/125]\tBatch Time 0.252 (0.250)\tLoss 0.6645 (0.6561)\t\n",
      "Epoch: [6][60/125]\tBatch Time 0.250 (0.256)\tLoss 0.6610 (0.6611)\t\n",
      "Epoch: [6][80/125]\tBatch Time 0.258 (0.261)\tLoss 0.6582 (0.6596)\t\n",
      "Epoch: [6][100/125]\tBatch Time 0.247 (0.253)\tLoss 0.6559 (0.6576)\t\n",
      "Epoch: [6][120/125]\tBatch Time 0.246 (0.251)\tLoss 0.6554 (0.6555)\t\n",
      "Validation: [0/32]\tBatch Time 0.123 (0.012)\tLoss 0.6535 (0.0653)\t\n",
      "Validation: [20/32]\tBatch Time 0.120 (0.109)\tLoss 0.6532 (0.5821)\t\n",
      "\n",
      " * LOSS - 0.631\n",
      "\n",
      "Epoch: [7][0/125]\tBatch Time 0.253 (0.025)\tLoss 0.6532 (0.0653)\t\n",
      "Epoch: [7][20/125]\tBatch Time 0.263 (0.226)\tLoss 0.6522 (0.5809)\t\n",
      "Epoch: [7][40/125]\tBatch Time 0.257 (0.250)\tLoss 0.6490 (0.6418)\t\n",
      "Epoch: [7][60/125]\tBatch Time 0.252 (0.256)\tLoss 0.6467 (0.6474)\t\n",
      "Epoch: [7][80/125]\tBatch Time 0.263 (0.265)\tLoss 0.6448 (0.6461)\t\n",
      "Epoch: [7][100/125]\tBatch Time 0.262 (0.256)\tLoss 0.6425 (0.6440)\t\n",
      "Epoch: [7][120/125]\tBatch Time 0.265 (0.261)\tLoss 0.6405 (0.6417)\t\n",
      "Validation: [0/32]\tBatch Time 0.129 (0.013)\tLoss 0.6397 (0.0640)\t\n",
      "Validation: [20/32]\tBatch Time 0.130 (0.113)\tLoss 0.6405 (0.5701)\t\n",
      "\n",
      " * LOSS - 0.618\n",
      "\n",
      "Epoch: [8][0/125]\tBatch Time 0.265 (0.026)\tLoss 0.6403 (0.0640)\t\n",
      "Epoch: [8][20/125]\tBatch Time 0.254 (0.228)\tLoss 0.6379 (0.5691)\t\n",
      "Epoch: [8][40/125]\tBatch Time 0.252 (0.254)\tLoss 0.6351 (0.6287)\t\n"
     ]
    },
    {
     "ename": "KeyboardInterrupt",
     "evalue": "",
     "output_type": "error",
     "traceback": [
      "\u001b[0;31m---------------------------------------------------------------------------\u001b[0m",
      "\u001b[0;31mKeyboardInterrupt\u001b[0m                         Traceback (most recent call last)",
      "\u001b[0;32m<ipython-input-10-c7bc734e5e35>\u001b[0m in \u001b[0;36m<module>\u001b[0;34m\u001b[0m\n\u001b[1;32m      1\u001b[0m \u001b[0;32mif\u001b[0m \u001b[0m__name__\u001b[0m \u001b[0;34m==\u001b[0m \u001b[0;34m'__main__'\u001b[0m\u001b[0;34m:\u001b[0m\u001b[0;34m\u001b[0m\u001b[0;34m\u001b[0m\u001b[0m\n\u001b[0;32m----> 2\u001b[0;31m     \u001b[0mmain\u001b[0m\u001b[0;34m(\u001b[0m\u001b[0;34m)\u001b[0m\u001b[0;34m\u001b[0m\u001b[0;34m\u001b[0m\u001b[0m\n\u001b[0m",
      "\u001b[0;32m<ipython-input-9-33da5def38e8>\u001b[0m in \u001b[0;36mmain\u001b[0;34m()\u001b[0m\n\u001b[1;32m     35\u001b[0m \u001b[0;34m\u001b[0m\u001b[0m\n\u001b[1;32m     36\u001b[0m         \u001b[0;31m# One epoch's training\u001b[0m\u001b[0;34m\u001b[0m\u001b[0;34m\u001b[0m\u001b[0;34m\u001b[0m\u001b[0m\n\u001b[0;32m---> 37\u001b[0;31m         \u001b[0mtrain_loss\u001b[0m \u001b[0;34m=\u001b[0m \u001b[0mtrain\u001b[0m\u001b[0;34m(\u001b[0m\u001b[0mepoch\u001b[0m\u001b[0;34m,\u001b[0m \u001b[0mtrain_loader\u001b[0m\u001b[0;34m,\u001b[0m \u001b[0mmodel\u001b[0m\u001b[0;34m,\u001b[0m \u001b[0moptimizer\u001b[0m\u001b[0;34m)\u001b[0m\u001b[0;34m\u001b[0m\u001b[0;34m\u001b[0m\u001b[0m\n\u001b[0m\u001b[1;32m     38\u001b[0m \u001b[0;34m\u001b[0m\u001b[0m\n\u001b[1;32m     39\u001b[0m         \u001b[0;31m# One epoch's validation\u001b[0m\u001b[0;34m\u001b[0m\u001b[0;34m\u001b[0m\u001b[0;34m\u001b[0m\u001b[0m\n",
      "\u001b[0;32m<ipython-input-4-883b455c6a41>\u001b[0m in \u001b[0;36mtrain\u001b[0;34m(epoch, train_loader, model, optimizer)\u001b[0m\n\u001b[1;32m     24\u001b[0m \u001b[0;34m\u001b[0m\u001b[0m\n\u001b[1;32m     25\u001b[0m         \u001b[0mloss\u001b[0m \u001b[0;34m=\u001b[0m \u001b[0mtorch\u001b[0m\u001b[0;34m.\u001b[0m\u001b[0msqrt\u001b[0m\u001b[0;34m(\u001b[0m\u001b[0;34m(\u001b[0m\u001b[0my_hat\u001b[0m \u001b[0;34m-\u001b[0m \u001b[0my\u001b[0m\u001b[0;34m)\u001b[0m\u001b[0;34m.\u001b[0m\u001b[0mpow\u001b[0m\u001b[0;34m(\u001b[0m\u001b[0;36m2\u001b[0m\u001b[0;34m)\u001b[0m\u001b[0;34m.\u001b[0m\u001b[0mmean\u001b[0m\u001b[0;34m(\u001b[0m\u001b[0;34m)\u001b[0m\u001b[0;34m)\u001b[0m\u001b[0;34m\u001b[0m\u001b[0;34m\u001b[0m\u001b[0m\n\u001b[0;32m---> 26\u001b[0;31m         \u001b[0mloss\u001b[0m\u001b[0;34m.\u001b[0m\u001b[0mbackward\u001b[0m\u001b[0;34m(\u001b[0m\u001b[0;34m)\u001b[0m\u001b[0;34m\u001b[0m\u001b[0;34m\u001b[0m\u001b[0m\n\u001b[0m\u001b[1;32m     27\u001b[0m \u001b[0;34m\u001b[0m\u001b[0m\n\u001b[1;32m     28\u001b[0m         \u001b[0moptimizer\u001b[0m\u001b[0;34m.\u001b[0m\u001b[0mstep\u001b[0m\u001b[0;34m(\u001b[0m\u001b[0;34m)\u001b[0m\u001b[0;34m\u001b[0m\u001b[0;34m\u001b[0m\u001b[0m\n",
      "\u001b[0;32m~/anaconda3/envs/py36/lib/python3.6/site-packages/torch/tensor.py\u001b[0m in \u001b[0;36mbackward\u001b[0;34m(self, gradient, retain_graph, create_graph)\u001b[0m\n\u001b[1;32m    105\u001b[0m                 \u001b[0mproducts\u001b[0m\u001b[0;34m.\u001b[0m \u001b[0mDefaults\u001b[0m \u001b[0mto\u001b[0m\u001b[0;31m \u001b[0m\u001b[0;31m`\u001b[0m\u001b[0;31m`\u001b[0m\u001b[0;32mFalse\u001b[0m\u001b[0;31m`\u001b[0m\u001b[0;31m`\u001b[0m\u001b[0;34m.\u001b[0m\u001b[0;34m\u001b[0m\u001b[0;34m\u001b[0m\u001b[0m\n\u001b[1;32m    106\u001b[0m         \"\"\"\n\u001b[0;32m--> 107\u001b[0;31m         \u001b[0mtorch\u001b[0m\u001b[0;34m.\u001b[0m\u001b[0mautograd\u001b[0m\u001b[0;34m.\u001b[0m\u001b[0mbackward\u001b[0m\u001b[0;34m(\u001b[0m\u001b[0mself\u001b[0m\u001b[0;34m,\u001b[0m \u001b[0mgradient\u001b[0m\u001b[0;34m,\u001b[0m \u001b[0mretain_graph\u001b[0m\u001b[0;34m,\u001b[0m \u001b[0mcreate_graph\u001b[0m\u001b[0;34m)\u001b[0m\u001b[0;34m\u001b[0m\u001b[0;34m\u001b[0m\u001b[0m\n\u001b[0m\u001b[1;32m    108\u001b[0m \u001b[0;34m\u001b[0m\u001b[0m\n\u001b[1;32m    109\u001b[0m     \u001b[0;32mdef\u001b[0m \u001b[0mregister_hook\u001b[0m\u001b[0;34m(\u001b[0m\u001b[0mself\u001b[0m\u001b[0;34m,\u001b[0m \u001b[0mhook\u001b[0m\u001b[0;34m)\u001b[0m\u001b[0;34m:\u001b[0m\u001b[0;34m\u001b[0m\u001b[0;34m\u001b[0m\u001b[0m\n",
      "\u001b[0;32m~/anaconda3/envs/py36/lib/python3.6/site-packages/torch/autograd/__init__.py\u001b[0m in \u001b[0;36mbackward\u001b[0;34m(tensors, grad_tensors, retain_graph, create_graph, grad_variables)\u001b[0m\n\u001b[1;32m     91\u001b[0m     Variable._execution_engine.run_backward(\n\u001b[1;32m     92\u001b[0m         \u001b[0mtensors\u001b[0m\u001b[0;34m,\u001b[0m \u001b[0mgrad_tensors\u001b[0m\u001b[0;34m,\u001b[0m \u001b[0mretain_graph\u001b[0m\u001b[0;34m,\u001b[0m \u001b[0mcreate_graph\u001b[0m\u001b[0;34m,\u001b[0m\u001b[0;34m\u001b[0m\u001b[0;34m\u001b[0m\u001b[0m\n\u001b[0;32m---> 93\u001b[0;31m         allow_unreachable=True)  # allow_unreachable flag\n\u001b[0m\u001b[1;32m     94\u001b[0m \u001b[0;34m\u001b[0m\u001b[0m\n\u001b[1;32m     95\u001b[0m \u001b[0;34m\u001b[0m\u001b[0m\n",
      "\u001b[0;31mKeyboardInterrupt\u001b[0m: "
     ]
    }
   ],
   "source": [
    "if __name__ == '__main__':\n",
    "    main()"
   ]
  },
  {
   "cell_type": "code",
   "execution_count": null,
   "metadata": {
    "collapsed": true,
    "deletable": true,
    "editable": true
   },
   "outputs": [],
   "source": []
  },
  {
   "cell_type": "code",
   "execution_count": null,
   "metadata": {
    "collapsed": true,
    "deletable": true,
    "editable": true
   },
   "outputs": [],
   "source": []
  },
  {
   "cell_type": "code",
   "execution_count": null,
   "metadata": {
    "collapsed": true,
    "deletable": true,
    "editable": true
   },
   "outputs": [],
   "source": []
  }
 ],
 "metadata": {
  "kernelspec": {
   "display_name": "py36",
   "language": "python",
   "name": "py36"
  },
  "language_info": {
   "codemirror_mode": {
    "name": "ipython",
    "version": 3
   },
   "file_extension": ".py",
   "mimetype": "text/x-python",
   "name": "python",
   "nbconvert_exporter": "python",
   "pygments_lexer": "ipython3",
   "version": "3.6.8"
  }
 },
 "nbformat": 4,
 "nbformat_minor": 2
}
